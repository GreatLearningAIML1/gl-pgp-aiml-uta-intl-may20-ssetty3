{
 "cells": [
  {
   "cell_type": "code",
   "execution_count": 1,
   "metadata": {},
   "outputs": [
    {
     "name": "stdout",
     "output_type": "stream",
     "text": [
      "Collecting opencv-pythonNote: you may need to restart the kernel to use updated packages.\n",
      "  Downloading opencv_python-4.4.0.46-cp38-cp38-win_amd64.whl (33.5 MB)\n",
      "Requirement already satisfied: numpy>=1.17.3 in c:\\users\\12489\\anaconda3\\lib\\site-packages (from opencv-python) (1.18.5)\n",
      "Installing collected packages: opencv-python\n",
      "Successfully installed opencv-python-4.4.0.46\n",
      "\n"
     ]
    },
    {
     "name": "stderr",
     "output_type": "stream",
     "text": [
      "WARNING: You are using pip version 20.2.3; however, version 20.3.1 is available.\n",
      "You should consider upgrading via the 'C:\\Users\\12489\\anaconda3\\python.exe -m pip install --upgrade pip' command.\n"
     ]
    }
   ],
   "source": [
    "pip install opencv-python"
   ]
  },
  {
   "cell_type": "code",
   "execution_count": 2,
   "metadata": {},
   "outputs": [
    {
     "name": "stdout",
     "output_type": "stream",
     "text": [
      "Collecting package metadata (current_repodata.json): ...working... done\n",
      "Note: you may need to restart the kernel to use updated packages.\n",
      "Solving environment: ...working... done\n",
      "\n",
      "## Package Plan ##\n",
      "\n",
      "  environment location: C:\\Users\\12489\\anaconda3\n",
      "\n",
      "  added / updated specs:\n",
      "    - jupyter\n",
      "\n",
      "\n",
      "\n",
      "The following packages will be downloaded:\n",
      "\n",
      "    package                    |            build\n",
      "    ---------------------------|-----------------\n",
      "    backports.functools_lru_cache-1.6.1|     pyhd3eb1b0_0          12 KB\n",
      "    conda-4.9.2                |   py38haa95532_0         2.9 MB\n",
      "    conda-package-handling-1.7.2|   py38h76e460a_0         723 KB\n",
      "    confuse-1.4.0              |     pyhd3eb1b0_0          22 KB\n",
      "    htmlmin-0.1.12             |     pyhd3eb1b0_1          24 KB\n",
      "    imagehash-4.2.0            |     pyhd3eb1b0_0         287 KB\n",
      "    missingno-0.4.2            |     pyhd3eb1b0_1          15 KB\n",
      "    phik-0.10.0                |     pyhd3eb1b0_0         535 KB\n",
      "    tangled-up-in-unicode-0.0.6|     pyhd3eb1b0_0         699 KB\n",
      "    visions-0.5.0              |     pyhd3eb1b0_0          45 KB\n",
      "    ------------------------------------------------------------\n",
      "                                           Total:         5.2 MB\n",
      "\n",
      "The following packages will be REMOVED:\n",
      "\n",
      "  python_abi-3.8-1_cp38\n",
      "\n",
      "The following packages will be UPDATED:\n",
      "\n",
      "  conda              conda-forge::conda-4.8.5-py38h9bdc248~ --> pkgs/main::conda-4.9.2-py38haa95532_0\n",
      "  conda-package-han~                   1.6.1-py38h62dcd97_0 --> 1.7.2-py38h76e460a_0\n",
      "  confuse            conda-forge::confuse-1.3.0-pyh9f0ad1d~ --> pkgs/main::confuse-1.4.0-pyhd3eb1b0_0\n",
      "  imagehash          conda-forge::imagehash-4.1.0-pyh9f0ad~ --> pkgs/main::imagehash-4.2.0-pyhd3eb1b0_0\n",
      "\n",
      "The following packages will be SUPERSEDED by a higher-priority channel:\n",
      "\n",
      "  htmlmin                  conda-forge::htmlmin-0.1.12-py_1 --> pkgs/main::htmlmin-0.1.12-pyhd3eb1b0_1\n",
      "  missingno               conda-forge::missingno-0.4.2-py_1 --> pkgs/main::missingno-0.4.2-pyhd3eb1b0_1\n",
      "  phik                        conda-forge::phik-0.10.0-py_0 --> pkgs/main::phik-0.10.0-pyhd3eb1b0_0\n",
      "  tangled-up-in-uni~ conda-forge::tangled-up-in-unicode-0.~ --> pkgs/main::tangled-up-in-unicode-0.0.6-pyhd3eb1b0_0\n",
      "  visions            conda-forge::visions-0.5.0-pyh9f0ad1d~ --> pkgs/main::visions-0.5.0-pyhd3eb1b0_0\n",
      "\n",
      "The following packages will be DOWNGRADED:\n",
      "\n",
      "  backports.functoo~                             1.6.1-py_0 --> 1.6.1-pyhd3eb1b0_0\n",
      "\n",
      "\n",
      "\n",
      "Downloading and Extracting Packages\n",
      "\n",
      "conda-package-handli | 723 KB    |            |   0% \n",
      "conda-package-handli | 723 KB    | 2          |   2% \n",
      "conda-package-handli | 723 KB    | #####5     |  55% \n",
      "conda-package-handli | 723 KB    | ########## | 100% \n",
      "conda-package-handli | 723 KB    | ########## | 100% \n",
      "\n",
      "tangled-up-in-unicod | 699 KB    |            |   0% \n",
      "tangled-up-in-unicod | 699 KB    | #####2     |  53% \n",
      "tangled-up-in-unicod | 699 KB    | ########## | 100% \n",
      "tangled-up-in-unicod | 699 KB    | ########## | 100% \n",
      "\n",
      "confuse-1.4.0        | 22 KB     |            |   0% \n",
      "confuse-1.4.0        | 22 KB     | ########## | 100% \n",
      "confuse-1.4.0        | 22 KB     | ########## | 100% \n",
      "\n",
      "phik-0.10.0          | 535 KB    |            |   0% \n",
      "phik-0.10.0          | 535 KB    | ########   |  81% \n",
      "phik-0.10.0          | 535 KB    | ########## | 100% \n",
      "\n",
      "backports.functools_ | 12 KB     |            |   0% \n",
      "backports.functools_ | 12 KB     | ########## | 100% \n",
      "backports.functools_ | 12 KB     | ########## | 100% \n",
      "\n",
      "conda-4.9.2          | 2.9 MB    |            |   0% \n",
      "conda-4.9.2          | 2.9 MB    | #2         |  13% \n",
      "conda-4.9.2          | 2.9 MB    | ##9        |  29% \n",
      "conda-4.9.2          | 2.9 MB    | #####2     |  52% \n",
      "conda-4.9.2          | 2.9 MB    | #######2   |  73% \n",
      "conda-4.9.2          | 2.9 MB    | #########2 |  93% \n",
      "conda-4.9.2          | 2.9 MB    | ########## | 100% \n",
      "\n",
      "imagehash-4.2.0      | 287 KB    |            |   0% \n",
      "imagehash-4.2.0      | 287 KB    | 5          |   6% \n",
      "imagehash-4.2.0      | 287 KB    | ########## | 100% \n",
      "imagehash-4.2.0      | 287 KB    | ########## | 100% \n",
      "\n",
      "htmlmin-0.1.12       | 24 KB     |            |   0% \n",
      "htmlmin-0.1.12       | 24 KB     | ########## | 100% \n",
      "htmlmin-0.1.12       | 24 KB     | ########## | 100% \n",
      "\n",
      "visions-0.5.0        | 45 KB     |            |   0% \n",
      "visions-0.5.0        | 45 KB     | ########## | 100% \n",
      "visions-0.5.0        | 45 KB     | ########## | 100% \n",
      "\n",
      "missingno-0.4.2      | 15 KB     |            |   0% \n",
      "missingno-0.4.2      | 15 KB     | ########## | 100% \n",
      "missingno-0.4.2      | 15 KB     | ########## | 100% \n",
      "Preparing transaction: ...working... done\n",
      "Verifying transaction: ...working... done\n",
      "Executing transaction: ...working... done\n"
     ]
    }
   ],
   "source": [
    "conda update jupyter"
   ]
  }
 ],
 "metadata": {
  "kernelspec": {
   "display_name": "Python 3",
   "language": "python",
   "name": "python3"
  },
  "language_info": {
   "codemirror_mode": {
    "name": "ipython",
    "version": 3
   },
   "file_extension": ".py",
   "mimetype": "text/x-python",
   "name": "python",
   "nbconvert_exporter": "python",
   "pygments_lexer": "ipython3",
   "version": "3.8.3"
  }
 },
 "nbformat": 4,
 "nbformat_minor": 4
}
