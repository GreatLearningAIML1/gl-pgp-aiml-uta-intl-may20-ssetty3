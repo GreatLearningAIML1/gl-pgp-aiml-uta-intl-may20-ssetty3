{
 "cells": [
  {
   "cell_type": "code",
   "execution_count": null,
   "metadata": {},
   "outputs": [],
   "source": [
    "2+2"
   ]
  },
  {
   "cell_type": "code",
   "execution_count": null,
   "metadata": {},
   "outputs": [],
   "source": [
    "print ('hello somu')"
   ]
  },
  {
   "cell_type": "markdown",
   "metadata": {},
   "source": [
    "# Introduction to Python.\n",
    "\n",
    "This done throught the option useing Markdown.\n",
    "\n",
    "Here is the markdown we can add equation, tell a stroy of the code.\n"
   ]
  },
  {
   "cell_type": "markdown",
   "metadata": {},
   "source": [
    "# Shortcuts\n",
    "\n",
    "Help --- > drop down menu ---- > short cuts\n",
    "\n",
    "the basic five short cuts are\n",
    "shft + enter ---> to run the cell and go to the next one.\n",
    "ctrl + enter ---> runs and stayes in the same run cell.\n",
    "Alt + enter ---> this runs the cell and creates a new code cell.\n",
    "tab --- > this shows up all the commands / vaiables associated in the run cell.\n",
    "shtf + tab ----> when the cursore is flashing on the command ex- print , when pressed this will tell functionlaity of the command.\n",
    "\n"
   ]
  },
  {
   "cell_type": "code",
   "execution_count": 2,
   "metadata": {},
   "outputs": [
    {
     "name": "stdout",
     "output_type": "stream",
     "text": [
      " five time a is 15 and 3 Multiplied by a is 9\n"
     ]
    }
   ],
   "source": [
    " # is for commenting that line\n",
    "# this is to assign variable tutorial \n",
    "\n",
    "a=3 # assign the variable to letter a that is equal to 3\n",
    "\n",
    "print (' five time a is', 5*a , 'and 3 Multiplied by a is', 3*a)"
   ]
  },
  {
   "cell_type": "code",
   "execution_count": 10,
   "metadata": {},
   "outputs": [
    {
     "name": "stdout",
     "output_type": "stream",
     "text": [
      "a variable is of type <class 'int'>\n",
      "b variable is of type <class 'float'>\n",
      "c variable is of type <class 'float'> Its value is 9.0\n"
     ]
    }
   ],
   "source": [
    "# Inspect the types of variable \n",
    "print ('a variable is of type', type(a))\n",
    "b=2.1\n",
    "print ('b variable is of type', type(b))\n",
    "c=  float(a) *a\n",
    "print ('c variable is of type', type (c), 'Its value is',c)\n"
   ]
  },
  {
   "cell_type": "markdown",
   "metadata": {},
   "source": [
    "# collections of variables.\n",
    "There are 4 main types of collections of variables in python.\n",
    "1. list\n",
    "2. Touple\n",
    "3. set\n",
    "4. dictonary.\n",
    "\n",
    "List is an ordered and indexed collection of values that are changeable and allow duplicates\n",
    "   The major difference b/w Pyton and R in index is the Python index start f    from 0 and the R index start from 1\n"
   ]
  },
  {
   "cell_type": "code",
   "execution_count": 25,
   "metadata": {},
   "outputs": [
    {
     "name": "stdout",
     "output_type": "stream",
     "text": [
      "['somu', 5, 16, 2020, 'start', 'AI/ML', 'python']\n",
      "somu\n",
      "AI/ML\n",
      "7\n",
      "python\n"
     ]
    }
   ],
   "source": [
    "# List is an ordered and indexed collection of values that are changeable and allow duplicates\n",
    "# the syntax is [ ] bigger bkts\n",
    "\n",
    "# the index loction on the list starts from 0\n",
    "\n",
    "# creating a list\n",
    "\n",
    "first_list=['somu',5,16,2020,'start', 'AI/ML', 'python']\n",
    "\n",
    "print(first_list)\n",
    "    \n",
    "print (first_list[0])\n",
    "    \n",
    "print (first_list[5])\n",
    "    \n",
    "print (len(first_list))  # length of the list by len command\n",
    "\n",
    "print(first_list[-1])\n",
    "\n"
   ]
  },
  {
   "cell_type": "code",
   "execution_count": 36,
   "metadata": {},
   "outputs": [
    {
     "name": "stdout",
     "output_type": "stream",
     "text": [
      "5\n",
      "['somu', 5, 16, 5, 'start', 'AI/ML', 'python', 'today', 'today', 'today']\n",
      "10\n",
      "9\n"
     ]
    }
   ],
   "source": [
    "# excersise to edit the list \n",
    "\n",
    "first_list[3]=5 # replace the index 3 value in the list\n",
    "print(first_list[3])\n",
    "\n",
    "first_list.append('today') # append is to add entry into the list\n",
    "print(first_list)\n",
    "print(len(first_list))\n",
    "\n",
    "\n",
    "first_list.pop(3)  # deleting the index 3 value  \n",
    "print (len(first_list))\n"
   ]
  },
  {
   "cell_type": "code",
   "execution_count": 37,
   "metadata": {},
   "outputs": [
    {
     "name": "stdout",
     "output_type": "stream",
     "text": [
      "[5, 5, 5, 5]\n"
     ]
    }
   ],
   "source": [
    "# Initialize the list with all of them with same values.\n",
    "\n",
    "rep_list=[5]*4 # here on the list value 5 is assigned to the 4 indexs on the list\n",
    "print(rep_list)\n"
   ]
  },
  {
   "cell_type": "code",
   "execution_count": 39,
   "metadata": {
    "scrolled": true
   },
   "outputs": [
    {
     "name": "stdout",
     "output_type": "stream",
     "text": [
      "[5, ['start', 1, 1], 5, 5]\n",
      "4\n"
     ]
    }
   ],
   "source": [
    "# excersise to inculde the list in a list.\n",
    "\n",
    "rep_list[1]=['start', 1,1] # this is adding a new list on the index 1 \n",
    "print(rep_list)\n",
    "print (len(rep_list))   # this will not count the values in the new intruduced list\n"
   ]
  },
  {
   "cell_type": "markdown",
   "metadata": {},
   "source": [
    "# numpy arrays simple to use in data list.\n"
   ]
  },
  {
   "cell_type": "code",
   "execution_count": null,
   "metadata": {},
   "outputs": [],
   "source": []
  },
  {
   "cell_type": "code",
   "execution_count": null,
   "metadata": {},
   "outputs": [],
   "source": []
  }
 ],
 "metadata": {
  "kernelspec": {
   "display_name": "Python 3",
   "language": "python",
   "name": "python3"
  },
  "language_info": {
   "codemirror_mode": {
    "name": "ipython",
    "version": 3
   },
   "file_extension": ".py",
   "mimetype": "text/x-python",
   "name": "python",
   "nbconvert_exporter": "python",
   "pygments_lexer": "ipython3",
   "version": "3.7.6"
  }
 },
 "nbformat": 4,
 "nbformat_minor": 4
}
